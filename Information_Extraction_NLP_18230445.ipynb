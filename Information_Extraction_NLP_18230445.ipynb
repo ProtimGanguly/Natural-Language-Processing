{
  "nbformat": 4,
  "nbformat_minor": 0,
  "metadata": {
    "colab": {
      "name": "Assignment_2(1).ipynb",
      "version": "0.3.2",
      "provenance": [],
      "collapsed_sections": [],
      "toc_visible": true
    },
    "kernelspec": {
      "display_name": "Python 3",
      "language": "python",
      "name": "python3"
    }
  },
  "cells": [
    {
      "metadata": {
        "id": "sC-LZ20S_WUr",
        "colab_type": "text"
      },
      "cell_type": "markdown",
      "source": [
        "# Information Extraction - Assignment\n",
        "This assignment is based on the Information Extraction lecture and the lab.\n"
      ]
    },
    {
      "metadata": {
        "id": "9xqCFJBv_WUt",
        "colab_type": "code",
        "outputId": "e673377a-8143-4b55-be6e-66833e29316e",
        "colab": {
          "base_uri": "https://localhost:8080/",
          "height": 201
        }
      },
      "cell_type": "code",
      "source": [
        "import os\n",
        "import nltk\n",
        "import re\n",
        "from nltk.tokenize import word_tokenize\n",
        "from nltk.tokenize import sent_tokenize\n",
        "from statistics import mode\n",
        "import itertools\n",
        "import json\n",
        "nltk.download('punkt')\n",
        "nltk.download('averaged_perceptron_tagger')\n",
        "nltk.download('maxent_ne_chunker')\n",
        "nltk.download('words')\n",
        "from nltk.tag import StanfordNERTagger\n",
        "from nltk.stem.wordnet import WordNetLemmatizer\n",
        "lmtzr = WordNetLemmatizer()\n",
        "from difflib import SequenceMatcher"
      ],
      "execution_count": 1,
      "outputs": [
        {
          "output_type": "stream",
          "text": [
            "[nltk_data] Downloading package punkt to /root/nltk_data...\n",
            "[nltk_data]   Unzipping tokenizers/punkt.zip.\n",
            "[nltk_data] Downloading package averaged_perceptron_tagger to\n",
            "[nltk_data]     /root/nltk_data...\n",
            "[nltk_data]   Unzipping taggers/averaged_perceptron_tagger.zip.\n",
            "[nltk_data] Downloading package maxent_ne_chunker to\n",
            "[nltk_data]     /root/nltk_data...\n",
            "[nltk_data]   Unzipping chunkers/maxent_ne_chunker.zip.\n",
            "[nltk_data] Downloading package words to /root/nltk_data...\n",
            "[nltk_data]   Unzipping corpora/words.zip.\n"
          ],
          "name": "stdout"
        }
      ]
    },
    {
      "metadata": {
        "id": "BjAH-ZAKg77y",
        "colab_type": "code",
        "outputId": "d9d3d52d-1978-42db-d95c-fe31691fb229",
        "colab": {
          "resources": {
            "http://localhost:8080/nbextensions/google.colab/files.js": {
              "data": "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",
              "ok": true,
              "headers": [
                [
                  "content-type",
                  "application/javascript"
                ]
              ],
              "status": 200,
              "status_text": "OK"
            }
          },
          "base_uri": "https://localhost:8080/",
          "height": 75
        }
      },
      "cell_type": "code",
      "source": [
        "from google.colab import files\n",
        "uploaded = files.upload()"
      ],
      "execution_count": 2,
      "outputs": [
        {
          "output_type": "display_data",
          "data": {
            "text/html": [
              "\n",
              "     <input type=\"file\" id=\"files-362e43f2-cba2-4cac-bf4e-63ea4d01ccd6\" name=\"files[]\" multiple disabled />\n",
              "     <output id=\"result-362e43f2-cba2-4cac-bf4e-63ea4d01ccd6\">\n",
              "      Upload widget is only available when the cell has been executed in the\n",
              "      current browser session. Please rerun this cell to enable.\n",
              "      </output>\n",
              "      <script src=\"/nbextensions/google.colab/files.js\"></script> "
            ],
            "text/plain": [
              "<IPython.core.display.HTML object>"
            ]
          },
          "metadata": {
            "tags": []
          }
        },
        {
          "output_type": "stream",
          "text": [
            "Saving football_players.txt to football_players.txt\n"
          ],
          "name": "stdout"
        }
      ]
    },
    {
      "metadata": {
        "id": "m0mo13vi_WUx",
        "colab_type": "code",
        "outputId": "c854645b-ad38-4d9f-d32d-36daf7535cc5",
        "colab": {
          "base_uri": "https://localhost:8080/",
          "height": 55
        }
      },
      "cell_type": "code",
      "source": [
        "\n",
        "inputfile='football_players.txt' #Location of the file\n",
        "buf=open(inputfile, encoding=\"UTF-8\")\n",
        "list_of_doc=buf.read().split('\\n')\n",
        "# Removing all empty lines i.e empty lines between paragraph and converting every value to String\n",
        "l = []\n",
        "for i in list_of_doc:\n",
        "    if len(i) != 0:\n",
        "        l.append(i)\n",
        "list_of_doc = l\n",
        "\n",
        "print(list_of_doc)"
      ],
      "execution_count": 3,
      "outputs": [
        {
          "output_type": "stream",
          "text": [
            "[\"Cristiano Ronaldo dos Santos Aveiro, ComM, GOIH (born 5 February 1985) is a Portuguese professional footballer who plays for Spanish club Real Madrid and the Portugal national team. He is a forward and serves as captain for Portugal. In 2008, he won his first Ballon d'Or and FIFA World Player of the Year awards. He then won the FIFA Ballon d'Or in 2013 and 2014. In 2015, Ronaldo scored his 500th senior career goal for club and country. Often ranked as the best player in the world, Ronaldo was named the best Portuguese player of all time by the Portuguese Football Federation, during its 100th anniversary celebrations in 2015. He is the only player to win four European Golden Shoe awards. One of the most marketable athletes in sport, in 2016 Forbes named Ronaldo the world's best paid athlete. In June 2016, ESPN ranked him the world's most famous athlete. Ronaldo began his club career playing for Sporting CP, before signing with Manchester United at age 18 in 2003. After winning his first trophy, the FA Cup, during his first season in England, he helped United win three successive Premier League titles, a UEFA Champions League title, and a FIFA Club World Cup. By age 23, he had received Ballon d'Or and FIFA World Player of the Year nominations. He was the subject of the most expensive association football transfer when he moved from Manchester United to Real Madrid in 2009 in a transfer worth €94 million ($132 million). In Spain, he has since won one La Liga title, two Copas del Rey, two Champions League titles, and a Club World Cup. Ronaldo holds the record for most goals scored in a single UEFA Champions League season, having scored 17 goals in the 2013–14 season. In 2014, Ronaldo became the fastest player to score 200 goals in La Liga, which he accomplished in his 178th La Liga game. He is the only player in the history of football to score 50 or more goals in a season on six consecutive occasions. In 2015, Ronaldo became the all-time top goalscorer in the UEFA Champions League, and he also became Real Madrid's all-time leading goalscorer. He is the second highest goalscorer in La Liga history behind Lionel Messi, his perceived career rival. Ronaldo made his international debut for Portugal in August 2003, at the age of 18. He is Portugal's most capped player of all time with over 130 caps, and has participated in seven major tournaments: four UEFA European Championships (2004, 2008, 2012 and 2016) and three FIFA World Cups (2006, 2010 and 2014). He is the first Portuguese player to reach 50 international goals, making him Portugal's all-time top goalscorer. He scored his first international goal in Euro 2004 and helped Portugal reach the final. He took over captaincy in July 2008, and he led Portugal to the semi-finals at Euro 2012, finishing the competition as joint-top scorer. In November 2014, Ronaldo became the all-time top scorer in the UEFA European Championship (including qualifying) with 23 goals. At Euro 2016, he became the most capped player of all-time in the tournament, the first player to score at four consecutive European Championship finals, and also equalled Michel Platini's all-time record for most goals scored in the competition. Ronaldo lifted the trophy after Portugal defeated France in the final, and he received the Silver Boot as one of the second-highest goalscorers of the tournament.\", 'Lionel Andrés \"Leo\" Messi (born 24 June 1987) is an Argentine professional footballer who plays as a forward for Spanish club FC Barcelona and the Argentina national team. Often considered the best player in the world and rated by many in the sport as the greatest of all time, Messi is the only football player in history to win five FIFA Ballons d\\'Or, four of which he won consecutively, and the first player to win three European Golden Shoes. With Barcelona he has won eight La Liga titles and four UEFA Champions League titles, as well as four Copas del Rey. Both a prolific goalscorer and a creative playmaker, Messi holds the records for most goals scored in La Liga, a La Liga season (50), a football season (82), and a calendar year (91), as well as those for most assists made in La Liga and the Copa América. He has scored over 500 senior career goals for club and country. Born and raised in central Argentina, Messi was diagnosed with a growth hormone deficiency as a child. At age 13, he relocated to Spain to join Barcelona, who agreed to pay for his medical treatment. After a fast progression through Barcelona\\'s youth academy, Messi made his competitive debut aged 17 in October 2004. Despite being injury-prone during his early career, he established himself as an integral player for the club within the next three years, finishing 2007 as a finalist for both the Ballon d\\'Or and FIFA World Player of the Year award, a feat he repeated the following year. His first uninterrupted campaign came in the 2008–09 season, during which he helped Barcelona achieve the first treble in Spanish football. At 22 years old, Messi won the Ballon d\\'Or and FIFA World Player of the Year award by record voting margins. Three successful seasons followed, with Messi winning three consecutive FIFA Ballons d\\'Or, including an unprecedented fourth. His personal best campaign to date was the 2011–12 season, in which he set the La Liga and European records for most goals scored in a single season, while establishing himself as Barcelona\\'s all-time top scorer in official competitions in March 2012. He again struggled with injury during the following two seasons, twice finishing second for the Ballon d\\'Or behind Cristiano Ronaldo, his perceived career rival. Messi regained his best form during the 2014–15 campaign, breaking the all-time goalscoring records in both La Liga and the Champions League in November 2014, and led Barcelona to a historic second treble. He is currently the second best goalscorer in the history of the European Cup/Champions League. An Argentine international, Messi is his country\\'s all-time leading goalscorer. At youth level, he won the 2005 FIFA World Youth Championship, finishing the tournament with both the Golden Ball and Golden Shoe, and an Olympic gold medal at the 2008 Summer Olympics. His style of play as a diminutive, left-footed dribbler drew comparisons with compatriot Diego Maradona, who declared the teenager his successor. After making his senior debut in August 2005, Messi became the youngest Argentine to play and score in a FIFA World Cup during the 2006 edition, and reached the final of the 2007 Copa América, where he was named young player of the tournament. As the squad\\'s captain from August 2011, he led Argentina to three consecutive finals of the 2014 World Cup, for which he won the Golden Ball, and the 2015 and 2016 Copas América. He was convicted of tax fraud committed from 2007 to 2009, for which he received a fine and a suspended prison sentence.', \"Neymar da Silva Santos Júnior (born 5 February 1992), commonly known as Neymar or Neymar Jr., is a Brazilian professional footballer who plays as a forward for Spanish club FC Barcelona and the Brazil national team. Neymar came into prominence at an early age at Santos, where he made his professional debut aged 17. He helped the club win two successive Campeonato Paulista championships, a Copa do Brasil, and the 2011 Copa Libertadores, Santos' first continental title since 1963. Neymar was twice named the South American Footballer of the Year, in 2011 and 2012, before relocating to Europe to join Barcelona. As part of Barça's attacking trio with Lionel Messi and Luis Suárez, he won the continental treble of La Liga, the Copa del Rey, and the UEFA Champions League in the 2014–15 season, followed the next year by the domestic double. He came third for the FIFA Ballon d'Or in 2015. With 49 goals in 73 matches for Brazil since debuting at age 18, Neymar is the fourth-highest goalscorer for his national team. He was a key player in Brazil's victories at the 2011 South American Youth Championship, which he finished as the leading goalscorer, and the 2013 FIFA Confederations Cup, where he won the Golden Ball as player of the tournament. His participation in the 2014 FIFA World Cup and 2015 Copa América was cut short by injury and a suspension respectively, but the next year he captained Brazil to their first Olympic gold medal in men's football at the 2016 Summer Olympics. Known for his dribbling, finishing, and ability with both feet, Neymar has earned comparisons to former Brazil and Santos forward Pelé. Off the pitch, he ranks among the world's most prominent sportsmen; SportsPro named him the most marketable athlete in the world in 2012 and 2013, and ESPN cited him as the world's fourth-most famous athlete in 2016.\", 'Ronaldo de Assis Moreira (born 21 March 1980), commonly known as Ronaldinho (Brazilian Portuguese: [ʁonawˈdʒĩɲu]) or Ronaldinho Gaúcho, is a Brazilian professional footballer and current club ambassador for Spanish club FC Barcelona after signing for them in September 2016. His main playing position is as an attacking midfielder or forward. He won the FIFA World Player of the Year award in 2004 and 2005. Renowned for his technique, tricks, dribbling, overhead kicks, no-look passes and free kicks, Ronaldinho is regarded to be one of the best players of his generation. \"Ronaldinho\", the diminutive and term of endearment for \"Ronaldo\", is accompanied in Brazilian usage by the nickname \"Gaúcho\" (since he hails from southern Brazil), in order to distinguish him from fellow footballer and countryman Ronaldo, who was known as \"Ronaldinho\" in Brazil beforehand. Ronaldo went by his first name upon his move to Europe, thereby allowing Ronaldinho to drop the \"Gaúcho\" and go by the name Ronaldinho abroad. Ronaldinho has played 97 matches and scored 33 goals for the Brazil national team. He was an integral part of the 2002 FIFA World Cup-winning team in Korea and Japan, starring alongside Ronaldo and Rivaldo in an attacking trio, and was named in the FIFA World Cup All-Star Team. At club level, Ronaldinho played first for the Brazilian club Grêmio before spending the bulk of his career with European clubs Paris Saint-Germain, Barcelona and Milan. He then returned to Brazil to play for Flamengo and Atlético Mineiro before moving to Mexico to play for Querétaro. With Barcelona, he won La Liga twice, the UEFA Champions League in 2006 and accumulated numerous individual awards, including the FIFA World Player of the Year in 2004 and 2005 and the Ballon d\\'Or in 2005. Ronaldinho was named in the FIFA 100, a list of the world\\'s greatest living players compiled by Pelé, and to the FIFPro World XI from 2005–2007. ', \"Wayne Mark Rooney (born 24 October 1985) is an English professional footballer who plays for and captains both Manchester United and the England national team. He has played much of his career as a forward, but he has also been used in various midfield roles. Aged nine, Rooney joined the youth team of Everton, for whom he made his professional debut in 2002 at the age of 16. He spent two seasons at the Merseyside club, before moving to Manchester United for £25.6 million in the 2004 summer transfer window. Since then, with Rooney in the team, United have won the Premier League five times, the UEFA Champions League once, the FIFA Club World Cup once, the FA Community Shield four times, the Football League Cup twice and the FA Cup once. In September 2013, Rooney scored his 200th goal for Manchester United. He is currently on 246 goals, making him the club's second top goalscorer of all time. His 194 Premier League goals make him the competition's second top scorer of all time, and he holds the record for most goals for one club in the Premier League, with 179 for Manchester United. Rooney made his senior international debut in February 2003 aged 17, becoming the youngest player to represent England (a record since broken by Theo Walcott) and he is England's youngest ever goalscorer. He played at UEFA Euro 2004 and scored four goals, briefly becoming the youngest goalscorer in the history of the European Championship. Rooney has since featured at the 2006, 2010 and 2014 World Cups and is widely regarded as his country's best player. He has won the England Player of the Year award four times, in 2008, 2009, 2014 and 2015. With 53 goals in 118 international caps, Rooney is England's all-time record goalscorer and second most-capped player. Along with David Beckham, Rooney is the most red carded player for England, having been sent off twice. In 2009–10, Rooney was awarded the PFA Players' Player of the Year and the FWA Footballer of the Year. He has won the Premier League Player of the Month award five times, a record only bettered by Steven Gerrard. He came fifth in the vote for the 2011 FIFA Ballon d'Or and was named in the FIFPro World 11 for 2011. Rooney has won the Goal of the Season award by the BBC's Match of the Day poll on three occasions, with his bicycle kick against rivals Manchester City winning the Premier League Goal of the 20 Seasons award.\", \"Zlatan Ibrahimović (born 3 October 1981) is a Swedish professional footballer who plays as a striker for Manchester United. He was also a member of the Sweden national team, making his senior international debut in 2001 and serving as captain from 2010 until he retired from international football in 2016. Ibrahimović began his career at Malmö FF in the late 1990s before being signed by Ajax, where he made a name for himself. He signed for Juventus and excelled in Serie A in a strike partnership with David Trezeguet. In 2006, he signed for rival side Inter Milan and was named to the UEFA Team of the Year in both 2007 and 2009. In addition, Ibrahimović would finish as the league's top scorer in 2008–09 and win three straight Scudetti. In the summer of 2009, he transferred to Barcelona, before moving back to Serie A football the following season, joining A.C. Milan in a deal that made him one of the highest-paid players in the world. He won another Scudetto with Milan in the 2010–2011 season. He joined Paris Saint-Germain in July 2012. During his four-season stay at PSG, Ibrahimović won four consecutive Ligue 1 titles, three Coupes de la Ligue, two Coupes de France and was the top scorer in Ligue 1 for three seasons. In October 2015, he became PSG's all time leading goalscorer. He finished his PSG career with 156 goals in 180 competitive matches. Ibrahimović is one of ten players to have made 100 or more appearances for the Swedish national team. He is the country's all-time leading goalscorer with 62 goals. He represented Sweden at the 2002 and 2006 FIFA World Cups, as well as the 2004, 2008, 2012, and 2016 UEFA European Championships. He has been awarded Guldbollen (the Golden Ball), given to the Swedish player of the year, a record ten times, including nine consecutive times from 2007 and 2015. With his playing style and acrobatic finishing compared to Dutch retired striker Marco van Basten, Ibrahimović is widely regarded as one of the best strikers in the game and one of the best footballers of his generation. His spectacular bicycle kick for Sweden against England won the 2013 FIFA Puskás Award for Goal of the Year. Off the field, he is known for his brash persona and outspoken comments, in addition to referring to himself in the third person. In December 2013, Ibrahimović was ranked by The Guardian as the third-best player in the world, behind only Lionel Messi and Cristiano Ronaldo. In December 2014, the Swedish newspaper Dagens Nyheter named him the second-greatest Swedish sportsperson of all time, after tennis player Björn Borg.\", \"David Robert Joseph Beckham, OBE (born 2 May 1975) is an English former professional footballer. He played for Manchester United, Preston North End, Real Madrid, Milan, LA Galaxy, Paris Saint-Germain, and the England national team for which he held the appearance record for an outfield player until 2016 when Wayne Rooney surpassed his total. He is the first English player to win league titles in four countries: England, Spain, the United States and France. He announced his retirement in May 2013 after a 20-year career, during which he won 19 major trophies. Known for his range of passing, crossing ability and bending free-kicks as a right winger, Beckham was twice runner-up for FIFA World Player of the Year and in 2004 he was named in the FIFA 100 list of the world's greatest living players. Beckham's professional club career began with Manchester United, where he made his first-team debut in 1992 aged 17. With United, he won the Premier League title six times, the FA Cup twice, and the UEFA Champions League in 1999. He then played four seasons with Real Madrid, winning the La Liga championship in his final season with the club. In July 2007 Beckham signed a five-year contract with Major League Soccer club LA Galaxy. While a Galaxy player, he spent two loan spells in Italy with Milan in 2009 and 2010. He was the first British footballer to play 100 UEFA Champions League games. In international football, Beckham made his England debut on 1 September 1996 at the age of 21. He was captain for six years, earning 58 caps during his tenure. He made 115 career appearances in total, appearing at three FIFA World Cup tournaments, the 1998, 2002 and 2006 editions and two UEFA European Championship tournaments, the 2000 and 2004 editions. One of the most marketable athletes in sport, Beckham has consistently ranked among the highest earners in football, and in 2013 he was listed as the highest-paid player in the world, earning over $50 million in the previous 12 months. He has been married to Victoria Beckham since 1999 and they have four children. He has been a UNICEF UK ambassador since 2005, and in 2015 he launched 7: The David Beckham UNICEF Fund to help protect children in danger around the world. In February 2014, MLS announced Beckham and a group of investors would own an expansion team in Miami, which would begin in 2016 or 2017.\", \"Mesut Özil (born 15 October 1988) is a German footballer who plays for English club Arsenal and the German national team. Özil has been a youth national team member since 2006, and a member of the German national team since 2009. He gained international attention during the 2010 FIFA World Cup and was nominated for the Golden Ball Award, which is awarded to the tournament's best player. Özil started his senior career at hometown club Schalke in the Bundesliga in 2006, transferred to Werder Bremen in 2008 and was signed by Real Madrid in August 2010 following his break-out performance at the FIFA World Cup with Germany. On transfer deadline day of summer 2013 he moved to Arsenal for a fee of £42.5 million, a record for the club and the highest fee ever paid for a German player. Özil is acclaimed for his finesse and improvisation as an attacking midfielder. His style and ability for providing assists for his team-mates has been compared by former manager José Mourinho to that of Real Madrid legend Zinedine Zidane. In 2010–11, Özil ranked first in assists in major European and domestic competitions with 25. In 2011–12, he ranked first in assists in La Liga with 17. Özil was the joint-highest assist provider at both the 2010 FIFA World Cup and UEFA Euro 2012, registering three at each tournament. \", 'Gareth Frank Bale (born 16 July 1989) is a Welsh professional footballer who plays as a winger for Spanish club Real Madrid and the Wales national team. Renowned for his ball striking from distance, swerving free kicks, and his ability to get past defenders with pace, Bale has received plaudits from his peers, who have described him as a footballer with \"tremendous speed, great crossing ability, a great left foot and exceptional physical qualities\". He began his professional career at Southampton, playing at left-back and earning acclaim as a free kick specialist. Bale moved to Tottenham Hotspur in 2007, for an eventual £7 million fee. During his time at Tottenham, managerial and tactical shifts saw him transform into a more attacking player. From the 2009–10 season, under the guidance of Harry Redknapp, Bale became an integral part of the team, rising to international attention during the 2010–11 UEFA Champions League. In 2011 and 2013 he was named PFA Players\\' Player of the Year, and was named in the UEFA Team of the Year. In 2013 he was also named PFA Young Player of the Year and the FWA Footballer of the Year. On 1 September 2013, Bale was transferred to Real Madrid for an undisclosed fee. Press at the time reported the transfer value at figures between €91 million and €100 million. In January 2016, documents pertaining to the transfer were leaked which confirmed a then-world record transfer fee of €100.8 million, eclipsing the previous record fee of £80 million (€94 million) for Cristiano Ronaldo in 2009. Bale played an integral role in his first season at Real Madrid, helping the club to win the 2013–14 Copa del Rey and UEFA Champions League, scoring in both finals. The following season he won the UEFA Super Cup and scored in a third major final to help the club win the FIFA Club World Cup. Two years later, he was a key player in another Champions League run, winning the 2015–16 title and being elected to the UEFA Squad of the Season. In 2016, ESPN ranked Bale twelfth on its list of the world\\'s most famous athletes. Bale made his senior international debut for Wales in May 2006, becoming the youngest player at that point to represent the nation. He has since earned over 60 caps and scored 25 international goals, making him Wales\\' second-highest scorer of all time behind Ian Rush. He was the top goalscorer for Wales in their successful qualifying campaign for UEFA Euro 2016, scoring seven goals; he subsequently represented his nation in the final tournament as they reached the semi-finals. ', \"Andrés Iniesta Luján (born 11 May 1984) is a Spanish professional footballer who plays as a central midfielder for FC Barcelona and the Spain national team. He serves as the captain for Barcelona. Iniesta came through La Masia, the Barcelona youth academy, after an early emigration from his birthplace, and impressed from an early age. He made his first-team debut aged 18 in 2002. He began playing regularly during the 2004–05 season and has remained in the team ever since. Iniesta was an integral part of the Barcelona sides that won two historic trebles in 2009 and 2015, and his 32 trophies make him the most decorated Spanish footballer of all time. Iniesta played for Spain at the Under-16, Under-19 and Under-21 levels before making his international debut in 2006. He helped Spain win Euro 2008, playing every game and being selected in the Team of the Tournament. Iniesta was also a key member of the victorious Spanish team at the 2010 World Cup; he scored the winning goal in the final against the Netherlands, for which he was named the Man of the Match, and was selected to the tournament's All-Star Team. At Euro 2012, Iniesta steered Spain to their second consecutive continental crown, again being chosen as the Man of the Match of the final against Italy, and was named the Player of the Tournament. Iniesta is considered to be one of the best players of his generation and one of the greatest midfielders of all time. Since 2009, he has been chosen in the UEFA Team of the Year five times and has been voted into the FIFA World XI on seven occasions. Iniesta won the UEFA Best Player in Europe award in 2012 and was named the IFFHS World's Best Playmaker in 2012 and 2013. He was runner-up to Lionel Messi for the 2010 FIFA Ballon d'Or and achieved third place in 2012.\"]\n"
          ],
          "name": "stdout"
        }
      ]
    },
    {
      "metadata": {
        "id": "DCEJrJ-p_WU1",
        "colab_type": "text"
      },
      "cell_type": "markdown",
      "source": [
        "# Task 1 (10 Marks)\n",
        "Write a function that takes each document and performs:\n",
        "1) sentence segmentation 2) tokenization 3) part-of-speech tagging\n",
        "\n",
        "Please keep in mind that the expected output is a list within a list as shown below.\n"
      ]
    },
    {
      "metadata": {
        "id": "U3MCJIcR_WU2",
        "colab_type": "code",
        "colab": {}
      },
      "cell_type": "code",
      "source": [
        "def ie_preprocess(document):\n",
        "    #This function pos tag the sentences and stores in the list'''\n",
        "    # Convert string into list of sentences\n",
        "    sentences = nltk.sent_tokenize(document)\n",
        "    pos_sentences = []\n",
        "    try:\n",
        "      sentences = [nltk.word_tokenize(sent) for sent in sentences]\n",
        "      pos_sentences = [nltk.pos_tag(sent) for sent in sentences]\n",
        "      return pos_sentences\n",
        "    except:\n",
        "      print(\"The input to the function must be of string Type\")\n",
        "\n"
      ],
      "execution_count": 0,
      "outputs": []
    },
    {
      "metadata": {
        "id": "-E04CUNb_WU6",
        "colab_type": "text"
      },
      "cell_type": "markdown",
      "source": [
        "Run the following code to check your result for the first document (Ronaldo)."
      ]
    },
    {
      "metadata": {
        "id": "R30taRgf_WU6",
        "colab_type": "code",
        "outputId": "1131cdd4-ca2d-4aec-c41d-b50a424c25df",
        "colab": {
          "base_uri": "https://localhost:8080/",
          "height": 219
        }
      },
      "cell_type": "code",
      "source": [
        "first_doc=list_of_doc[0]\n",
        "# Calling the ie_preprocess function\n",
        "pos_sent=ie_preprocess(first_doc)\n",
        "pos_sent[1]\n"
      ],
      "execution_count": 5,
      "outputs": [
        {
          "output_type": "execute_result",
          "data": {
            "text/plain": [
              "[('He', 'PRP'),\n",
              " ('is', 'VBZ'),\n",
              " ('a', 'DT'),\n",
              " ('forward', 'NN'),\n",
              " ('and', 'CC'),\n",
              " ('serves', 'NNS'),\n",
              " ('as', 'IN'),\n",
              " ('captain', 'NN'),\n",
              " ('for', 'IN'),\n",
              " ('Portugal', 'NNP'),\n",
              " ('.', '.')]"
            ]
          },
          "metadata": {
            "tags": []
          },
          "execution_count": 5
        }
      ]
    },
    {
      "metadata": {
        "id": "OMw70Wm8_WU-",
        "colab_type": "text"
      },
      "cell_type": "markdown",
      "source": [
        "Expected output\n",
        " [...[('He', 'PRP'),\n",
        "  ('is', 'VBZ'),\n",
        "  ('a', 'DT'),\n",
        "  ('forward', 'NN'),\n",
        "  ('and', 'CC'),\n",
        "  ('serves', 'NNS'),\n",
        "  ('as', 'IN'),\n",
        "  ('captain', 'NN'),\n",
        "  ('for', 'IN'),\n",
        "  ('Portugal', 'NNP'),\n",
        "  ('.', '.')], ...]"
      ]
    },
    {
      "metadata": {
        "id": "tYTwrZId_WU_",
        "colab_type": "text"
      },
      "cell_type": "markdown",
      "source": [
        "# Task 2 (20 Marks)\n",
        "Write a function that will take the list of tokens with POS tags for each sentence and returns the named entities (NE). \n",
        "\n",
        "Hint: Use binary=True while calling NE chunk function"
      ]
    },
    {
      "metadata": {
        "id": "5fC0iqJJ_WU_",
        "colab_type": "code",
        "outputId": "7a3cf64d-b922-439f-e9c5-bb1312421294",
        "colab": {
          "base_uri": "https://localhost:8080/",
          "height": 35
        }
      },
      "cell_type": "code",
      "source": [
        "import nltk\n",
        "def named_entity_finding(p_sent , x=True, y=\"NE\"):\n",
        "    #Code goes here\n",
        "    # This is check if the return needs all NE or specific NE - default type is PERSON.\n",
        "    if y != \"NE\":\n",
        "        x=False\n",
        "        if y==\"NE\":\n",
        "            y = \"PERSON\"\n",
        "    tree = nltk.ne_chunk(p_sent, binary=x)\n",
        "    #print(tree)\n",
        "    named_entities = []\n",
        "    for subtree in tree.subtrees():\n",
        "        #print(subtree.label())\n",
        "        if (subtree.label() == \"NE\") :\n",
        "          entity = \"\"\n",
        "          for leaf in subtree.leaves():\n",
        "              entity = entity + leaf[0] + \" \"\n",
        "          named_entities.append(entity.strip())\n",
        "    return (named_entities)\n",
        "\n",
        "#named_entity_finding()\n",
        "pos_sents=ie_preprocess(list_of_doc[0])\n",
        "print(named_entity_finding(pos_sents[0]))"
      ],
      "execution_count": 6,
      "outputs": [
        {
          "output_type": "stream",
          "text": [
            "['Cristiano Ronaldo', 'Santos Aveiro', 'ComM', 'GOIH', 'Portuguese', 'Spanish', 'Real Madrid', 'Portugal']\n"
          ],
          "name": "stdout"
        }
      ]
    },
    {
      "metadata": {
        "id": "fDolbFKE_WVD",
        "colab_type": "text"
      },
      "cell_type": "markdown",
      "source": [
        "Expected output ['Cristiano Ronaldo',\n",
        " 'Santos Aveiro',\n",
        " 'ComM',\n",
        " 'GOIH',\n",
        " 'Portuguese',\n",
        " 'Portuguese',\n",
        " 'Spanish',\n",
        " 'Real Madrid',\n",
        " 'Portugal']"
      ]
    },
    {
      "metadata": {
        "id": "XHMp7xtK_WVE",
        "colab_type": "text"
      },
      "cell_type": "markdown",
      "source": [
        "# Task 3 (10 Marks)\n",
        "\n",
        "Now use the named_entity_finding() function to extract all NEs for each document.\n",
        "\n",
        "Hint: pos_sents holds the list of lists of tokens with POS tags"
      ]
    },
    {
      "metadata": {
        "id": "TwFlzQx4_WVF",
        "colab_type": "code",
        "outputId": "27590dd1-7e70-457e-b084-c220e9c8f10c",
        "colab": {
          "base_uri": "https://localhost:8080/",
          "height": 55
        }
      },
      "cell_type": "code",
      "source": [
        "def NE_flat_list_fn(document):\n",
        "    \"\"\"This function is extracts named entities in entire document and returns all unique NE as flattened list\"\"\"\n",
        "    NE=[]\n",
        "    try:\n",
        "        # Loop through each docudment 1-10\n",
        "        for i in document:\n",
        "            # POS tag the document\n",
        "            pos_sents = ie_preprocess(i)\n",
        "            #print(pos_sents)\n",
        "            for pos_sent in pos_sents:\n",
        "                # For each tagged sentence in document find named entity\n",
        "                entity = named_entity_finding(pos_sent)\n",
        "                #print(entity)\n",
        "                if len(entity) != 0:\n",
        "                    NE.append(entity)\n",
        "\n",
        "        \n",
        "        # This function flattens the list\n",
        "        NE_flat_list = list(itertools.chain.from_iterable(NE))\n",
        "        return NE_flat_list\n",
        "    except:     \n",
        "        print(\"Please make sure that input to the function is off type string\")\n",
        "\n",
        "        \n",
        "ne_flat = NE_flat_list_fn(list_of_doc)\n",
        "ne_flat = list(set(ne_flat))\n",
        "print(ne_flat)"
      ],
      "execution_count": 7,
      "outputs": [
        {
          "output_type": "stream",
          "text": [
            "['Portuguese Football Federation', 'Tottenham Hotspur', 'Preston North End', 'Netherlands', 'Rivaldo', 'Portugal', 'Europe', 'Golden Ball Award', 'UNICEF UK', 'Cristiano Ronaldo', 'Brazil', 'FIFA Confederations Cup', 'Ballon', 'England', 'PSG', 'Neymar Jr.', 'OBE', 'UEFA European', 'South American Youth Championship', 'Pelé', 'David Robert Joseph Beckham', 'Steven Gerrard', 'Michel Platini', 'Santos', 'Ajax', 'Swedish', 'Beckham', 'Wayne Rooney', 'FIFPro World', 'BBC', 'Flamengo', 'Mesut Özil', 'Born', 'Golden Ball', 'European Golden Shoe', 'Ronaldinho', 'Germany', 'Golden Shoe', 'Lionel Andrés', 'FIFA Puskás Award', 'Match', 'Zinedine Zidane', 'PFA Players', 'UEFA Best Player', 'FC Barcelona', 'Dagens Nyheter', 'Real Madrid', 'Southampton', 'David Trezeguet', 'Spain', 'Paris', 'UEFA Euro', 'Malmö FF', 'Italy', 'South American Footballer', 'Harry Redknapp', 'IFFHS World', 'LA Galaxy', 'United States', 'Wales', 'FIFA World Youth Championship', 'Andrés Iniesta Luján', 'FWA Footballer', 'Marco', 'PFA Young Player', 'Campeonato Paulista', 'European Championship', 'FIFA World XI', 'Barcelona', 'MLS', 'Madrid', 'Barça', 'Spanish', 'Major League Soccer', 'Diego Maradona', 'Brasil', 'Football League', 'England Player', 'Korea', 'UNICEF Fund', 'Zlatan Ibrahimović', 'Tottenham', 'UEFA Champions League', 'UEFA Super Cup', 'Everton', 'Season', 'Rooney', 'Champions League', 'Bale', 'FIFA Ballons', 'Gareth Frank Bale', 'GOIH', 'FIFA World', 'European', 'British', 'Luis Suárez', 'Guardian', 'SportsPro', 'FIFA Ballon', 'UEFA Team', 'Björn Borg', 'Sweden', 'Serie', 'Copa América', 'ComM', 'Japan', 'Neymar', 'Galaxy', 'Querétaro', 'FIFA Club', 'Arsenal', 'FIFPro', 'UEFA Squad', 'Portuguese', 'Guldbollen', 'English', 'France', 'Basten', 'La Liga', 'Özil', 'Werder Bremen', 'José Mourinho', 'Milan', 'Santos Aveiro', 'Brazilian', 'Miami', 'Victoria Beckham', 'ESPN', 'Wayne Mark Rooney', 'Manchester United', 'Argentina', 'David Beckham', 'Ian Rush', 'Iniesta', 'Ibrahimović', 'Mexico', 'FIFA', 'Juventus', 'Atlético Mineiro', 'United', 'Ronaldinho Gaúcho', 'Silver Boot', 'FIFA World Cups', 'Ronaldo', 'Messi', 'Lionel Messi', 'Goal', 'European Golden Shoes', 'Merseyside', 'German', 'Silva Santos Júnior']\n"
          ],
          "name": "stdout"
        }
      ]
    },
    {
      "metadata": {
        "id": "l7-ma9lJ_WVJ",
        "colab_type": "text"
      },
      "cell_type": "markdown",
      "source": [
        "# Task 4 (40 Marks)\n",
        "\n",
        "Write functions to extract the name of the player, country of origin and date of birth as well as the following relations: team(s) of the player and position(s) of the player.\n",
        "\n",
        "Hint: Use the re.compile() function to create the extraction patterns\n",
        "\n",
        "Reference: https://docs.python.org/3/howto/regex.html"
      ]
    },
    {
      "metadata": {
        "id": "tbaFyiah_WVK",
        "colab_type": "code",
        "colab": {
          "base_uri": "https://localhost:8080/",
          "height": 35
        },
        "outputId": "3bddcf2e-4c9b-4a64-8829-dde93a184f95"
      },
      "cell_type": "code",
      "source": [
        "def name_of_the_player(doc):\n",
        "    #code goes here\n",
        "    # Hint: Use the named_entity_finding() function\n",
        "    t = []\n",
        "    name = []\n",
        "    \n",
        "    try:\n",
        "        pos_sents = ie_preprocess(doc)\n",
        "        #print(pos_sents[0])\n",
        "        tree = nltk.ne_chunk(pos_sents[0])\n",
        "        #print(tree)\n",
        "        for subtree in tree.subtrees():\n",
        "            if subtree.label() == \"PERSON\":\n",
        "                entity = \"\"\n",
        "                for leaf in subtree.leaves():\n",
        "                    entity = entity + leaf[0] + \" \"\n",
        "                name.append(entity.strip())\n",
        "\n",
        "        return \" \".join(name)\n",
        "         \n",
        "    except:\n",
        "       print(\"The document has to be of type string\")\n",
        "try:\n",
        "   print(name_of_the_player(list_of_doc[1]))\n",
        "except:\n",
        "   print(\"Please make sure give list index is right\")\n"
      ],
      "execution_count": 8,
      "outputs": [
        {
          "output_type": "stream",
          "text": [
            "Lionel Andrés\n"
          ],
          "name": "stdout"
        }
      ]
    },
    {
      "metadata": {
        "id": "EzTkjh6nCgeH",
        "colab_type": "text"
      },
      "cell_type": "markdown",
      "source": [
        "Here we can extract player name using standfor NE tagger as well. Standford works slightly better than NLTK default tagger. Moreover, Standfor NE tagger detects the surname as well. E.g: NLTK default - Cristiano Santos Aveiro : retuns Cristiano as PERSON and Ronaldo as ORGANIZATION. Hence using standford package will help in this.\"\"\"\n",
        "        "
      ]
    },
    {
      "metadata": {
        "id": "HP3NeWhPED-Z",
        "colab_type": "code",
        "colab": {
          "base_uri": "https://localhost:8080/",
          "height": 35
        },
        "outputId": "98624e77-219b-4968-f0c1-6177524963bd"
      },
      "cell_type": "code",
      "source": [
        "def country_of_origin(doc):\n",
        "    \n",
        "    \"\"\" Three levels of filter is applied here. Because NLTK NE tagger dosent recognise all the country names. Moreover, \n",
        "    we can use look up to get the country name (because the text contains like spanish that can be converted to Spain).\n",
        "    LEVEL 1 - Used NLTK tagger to find Named Entity. If not found go to LEVEL - 2\n",
        "    LEVEL 2 - Used Regex to check for word with profesional footballer. If not found go to LEVEL - 3\n",
        "    LEVEL 3 - USed Regex to match word with National Team.\n",
        "    Note - Not used Look up here. This type of Levels is useful in a large documents\"\"\"\n",
        "    \n",
        "    sentence = sent_tokenize(doc)[0]\n",
        "    tm = []\n",
        "    seq = []\n",
        "    # LEVEL 2 (look for prrofesssional footballer.)\n",
        "    # This uses regex to find the country of origin if NLTK fails to detect GPE or LOCATION tag.\n",
        "    m = re.search(r'((?:\\w+\\W+){,3})(footballer)', sentence)\n",
        "    s = \"\".join(list(m.groups()))\n",
        "    mal = re.search(r'((\\w+ ){1})professional', s)\n",
        "    # Take the first group most probably the country name\n",
        "    try:\n",
        "      mal = mal.groups()[0]\n",
        "    except:\n",
        "      mal = None\n",
        "\n",
        "    # LEVEL - 1 (Primary lever, get NE for 1st sentence and look for GPE)\n",
        "    # Get tag for first sentence\n",
        "    tag = ie_preprocess(s)[0]\n",
        "    tree = nltk.ne_chunk(tag)\n",
        "    born = []\n",
        "    # Check for GPE tag if any (sometimes NLTK dosent detect GPE).\n",
        "    for subtree in tree.subtrees():\n",
        "      if subtree.label() == 'GPE':\n",
        "        entity = \"\"\n",
        "        for leaf in subtree.leaves():\n",
        "          entity = entity + leaf[0] + \" \"\n",
        "        born.append(entity.strip())\n",
        "        \n",
        "    # LEVEL 3 (if nowhere found then check for words with national team.)\n",
        "    match = re.compile(r'((?:[\\S,]+\\s+){0,1})national team')\n",
        "    for i, sent in enumerate(sent_tokenize(doc)):\n",
        "      if i == 2:\n",
        "        break\n",
        "      team = match.findall(sent)\n",
        "      if len(team) != 0:\n",
        "        tm.append(team[0])\n",
        "    # If NLTK fails to detect then use Regex re.search(r'((?:\\w+\\W+){,3})(footballer)', sentence) - i.e take 3 words before \n",
        "    # the word footballer and take the first group.\n",
        "    if len(born) == 0:\n",
        "      if len(mal) != 0:\n",
        "        born = nltk.word_tokenize(mal) \n",
        "      elif len(tm) != 0:\n",
        "        born = tm\n",
        "        \n",
        "        \n",
        "    # Lookup of all the countries - can use all country name as look up but included only few.\n",
        "    # sequence matcher is used to find the country in look up.\n",
        "    l = ['Spain', 'England', 'Portugal', 'Wales', 'England', 'Brazil', 'Germany', 'Argentina', 'Sweden']\n",
        "    for x in l:\n",
        "      seq.append(SequenceMatcher(None, born[0], x).ratio())\n",
        "    final = l[seq.index(max(seq))]\n",
        "    return final\n",
        "  \n",
        "print(country_of_origin(list_of_doc[5]))\n",
        "                "
      ],
      "execution_count": 9,
      "outputs": [
        {
          "output_type": "stream",
          "text": [
            "Sweden\n"
          ],
          "name": "stdout"
        }
      ]
    },
    {
      "metadata": {
        "id": "QGPpMpg6ibmg",
        "colab_type": "code",
        "colab": {
          "base_uri": "https://localhost:8080/",
          "height": 35
        },
        "outputId": "ab38877a-35ce-415c-bb96-0185dcd465e9"
      },
      "cell_type": "code",
      "source": [
        "def date_of_birth(doc):\n",
        "    \n",
        "    \"\"\"Used regex to find the date of bith. First extract the sentence containing born and find the matching pattern.\"\"\"\n",
        "    \n",
        "    sentence = sent_tokenize(doc)[0]\n",
        "    match = re.compile(r'born\\b\\s*((?:\\S+\\s+){0,3})')\n",
        "    born = match.findall(sentence)[0]\n",
        "    born = re.sub('\\W+',' ', born )\n",
        "    \n",
        "    return born\n",
        "\n",
        "\n",
        "try:\n",
        "    print(date_of_birth(list_of_doc[1]))\n",
        "except:\n",
        "    print(\"Please make sure the list indexing is right\")"
      ],
      "execution_count": 10,
      "outputs": [
        {
          "output_type": "stream",
          "text": [
            "24 June 1987 \n"
          ],
          "name": "stdout"
        }
      ]
    },
    {
      "metadata": {
        "id": "5V2ZF7Rvio2l",
        "colab_type": "code",
        "colab": {
          "base_uri": "https://localhost:8080/",
          "height": 35
        },
        "outputId": "8e2c84d0-aa31-4a9a-84c6-c1a765e64e07"
      },
      "cell_type": "code",
      "source": [
        "def team_of_the_player(doc):\n",
        "    \n",
        "    \"\"\"This functions returns teams of the player. Note Some of the players dosent have national team information\n",
        "    (for sentence 4). Hence, assumed as player plays for his country of origin (This may not be true for always). \"\"\"\n",
        "    \n",
        "    sentence = sent_tokenize(doc)\n",
        "    tm = []\n",
        "    club = []\n",
        "    club2 = []\n",
        "    \n",
        "    try:\n",
        "        tag = ie_preprocess(doc)\n",
        "        # Check for only first 2 sentences. Saves time and efficent.\n",
        "        for i, sent in enumerate(sentence):\n",
        "            if i == 2:\n",
        "                break\n",
        "            # Extract the national team of the player using below regex.\n",
        "            match = re.compile(r'((?:[\\S,]+\\s+){0,1})national team')\n",
        "            \n",
        "            # This is to extract the clubs of the player.\n",
        "            match_club = re.compile(r'club\\s+((?:[\\S,]+\\s*){0,2})')\n",
        "            \n",
        "            \n",
        "            # Find the national team\n",
        "            team = match.findall(sent)\n",
        "            \n",
        "            # If club keyword found in first couple of sentences. Extract those clubs.\n",
        "            if len(match_club.findall(sent)) != 0:\n",
        "                for f in match_club.findall(sent):\n",
        "                    club2.append(f)\n",
        "            \n",
        "            # Search of clubs. This can be found by checking for organization by calling Named Entity function and type is \n",
        "            # ORGANIZATION.\n",
        "            club.append(named_entity_finding(tag[i], False, \"ORGANIZATION\"))\n",
        "            if len(team) != 0:\n",
        "                l = team[0]+\"national team\"\n",
        "                tm.append(l)\n",
        "            \n",
        "        # Find unique names because sentence may have same names multiple times.\n",
        "        if len(list(set(tm))) != 0:\n",
        "            national_team = list(set(tm))[0]\n",
        "        else:\n",
        "            national_team = country_of_origin(doc) +\" national team\"\n",
        "\n",
        "        # Flattens the list\n",
        "        club = list(itertools.chain.from_iterable(club))\n",
        "        \n",
        "        for i, s in enumerate(club2):\n",
        "            club2[i] = club2[i].rstrip()\n",
        "        if len(list(set(club).intersection(club2))) != 0:\n",
        "            club = list(set(club).intersection(club2))\n",
        "        club.append(national_team)\n",
        "\n",
        "        club = list(set(club).difference(nltk.word_tokenize(sentence[0])[0:6]))\n",
        "        club = club+club2\n",
        "        \n",
        "        return club\n",
        "    except:\n",
        "        print(\"Please make sure the data given to this function is of type string\")\n",
        "\n",
        "\n",
        "try:\n",
        "    print(team_of_the_player(list_of_doc[0]))\n",
        "except:\n",
        "    print(\"Please make sure the given list index is right.\")"
      ],
      "execution_count": 16,
      "outputs": [
        {
          "output_type": "stream",
          "text": [
            "['Portugal national team', 'Real Madrid']\n"
          ],
          "name": "stdout"
        }
      ]
    },
    {
      "metadata": {
        "id": "UR6ABrOajBit",
        "colab_type": "code",
        "colab": {
          "base_uri": "https://localhost:8080/",
          "height": 35
        },
        "outputId": "5f04d925-afb9-4dd7-f1a0-bf8f637229b7"
      },
      "cell_type": "code",
      "source": [
        "def position_of_the_player(doc):\n",
        "    \n",
        "    \"\"\" This function extracts position of the player. Can return multiple values if the player played in \n",
        "    different clubs or teams as different position. Hence the return type is list.\"\"\"\n",
        "\n",
        "\n",
        "    # This is look up of all postions available in football\n",
        "    pos = [\"forward\", \"captian\", \"attacking midfielder\", \"striker\", \"winger\", \"central midfielder\", \"defensive tackle\", \"defensive end\"]\n",
        "    player_position = []\n",
        "    try:\n",
        "        sent = sent_tokenize(doc)\n",
        "        for i, sent in enumerate(sent):\n",
        "            for x in pos:\n",
        "                # Find matching in look up and sentence.\n",
        "                regex = re.compile(r'\\b({0})\\b'.format(x), flags=re.IGNORECASE)\n",
        "                \n",
        "                # if result is true append to a list\n",
        "                r = bool(regex.search(sent))\n",
        "                \n",
        "                if r == True:\n",
        "                    player_position.append(x)\n",
        "        \n",
        "        return list(set(player_position))\n",
        "    except:\n",
        "        print(\"Please make sure that input to the function is string\")\n",
        "\n",
        "try:\n",
        "    print(position_of_the_player(list_of_doc[3]))\n",
        "except:\n",
        "    print(\"Maximum length of document is 10 i.e. index 9\")"
      ],
      "execution_count": 17,
      "outputs": [
        {
          "output_type": "stream",
          "text": [
            "['forward', 'attacking midfielder']\n"
          ],
          "name": "stdout"
        }
      ]
    },
    {
      "metadata": {
        "id": "K-CNrMM5_WVO",
        "colab_type": "text"
      },
      "cell_type": "markdown",
      "source": [
        "Execute the below command to check your fuction\n"
      ]
    },
    {
      "metadata": {
        "id": "jpeKE1u9_WVP",
        "colab_type": "code",
        "colab": {
          "base_uri": "https://localhost:8080/",
          "height": 35
        },
        "outputId": "6dbd07e8-55a1-4f55-d236-c656b4bb9c36"
      },
      "cell_type": "code",
      "source": [
        "date_of_birth(list_of_doc[2])"
      ],
      "execution_count": 36,
      "outputs": [
        {
          "output_type": "execute_result",
          "data": {
            "text/plain": [
              "'5 February 1992 '"
            ]
          },
          "metadata": {
            "tags": []
          },
          "execution_count": 36
        }
      ]
    },
    {
      "metadata": {
        "id": "7g3p6CcQ_WVS",
        "colab_type": "text"
      },
      "cell_type": "markdown",
      "source": [
        "Expected output '5 February 1992'"
      ]
    },
    {
      "metadata": {
        "id": "sCYflDpp_WVU",
        "colab_type": "text"
      },
      "cell_type": "markdown",
      "source": [
        "# Task 5 (10 Marks)\n",
        "\n",
        "Write a function using the outputs from the previous functions to generate JSON-LD output as follows.\n",
        "\n",
        "Reference: https://json-ld.org/primer/latest/\n",
        "\n",
        "{ \"@id\": \"http://my-soccer-ontology.com/footballer/name_of_the_player\",\n",
        "\n",
        "    \"name\": \"\",\n",
        "    \"born\": \"\",\n",
        "    \"country\": \"\",\n",
        "    \"position\": [\n",
        "        { \"@id\": \"http://my-soccer-ontology.com/position\",\n",
        "            \"type\": \"\"\n",
        "        }\n",
        "     ]   \n",
        "     \"team\": [\n",
        "        { \"@id\": \"http://my-soccer-ontology.com/team\",\n",
        "            \"name\": \"\"\n",
        "        }   \n",
        "     ]\n",
        "}\n"
      ]
    },
    {
      "metadata": {
        "id": "YJs7c9yjk417",
        "colab_type": "code",
        "colab": {}
      },
      "cell_type": "code",
      "source": [
        "def data_generator(doc):\n",
        "    \n",
        "    data = [name_of_the_player(doc), date_of_birth(doc), country_of_origin(doc), position_of_the_player(doc), team_of_the_player(doc)]\n",
        "    \n",
        "    return data\n",
        "\n",
        "\n",
        "data = data_generator(list_of_doc[0])"
      ],
      "execution_count": 0,
      "outputs": []
    },
    {
      "metadata": {
        "id": "z8HStdlu_WVU",
        "colab_type": "code",
        "colab": {
          "base_uri": "https://localhost:8080/",
          "height": 55
        },
        "outputId": "7b4072e7-24da-4cf9-9311-ebf7eb004574"
      },
      "cell_type": "code",
      "source": [
        "def generate_jsonld(arg, con=True):\n",
        "    if con == True:\n",
        "\n",
        "        ld = { \"@id\": \"http://my-soccer-ontology.com/footballer/\"+arg[0],\n",
        "\n",
        "            \"name\": arg[0],\n",
        "            \"born\": arg[1],\n",
        "            \"country\": arg[2],\n",
        "            \"position\": [\n",
        "                { \"@id\": \"http://my-soccer-ontology.com/position/\",\n",
        "                    \"type\": arg[3]\n",
        "                }\n",
        "             ],   \n",
        "             \"team\": [\n",
        "                { \"@id\": \"http://my-soccer-ontology.com/team/\",\n",
        "                    \"name\": arg[4]\n",
        "                }   \n",
        "             ]\n",
        "        }\n",
        "\n",
        "        return json.dumps(ld)\n",
        "    \n",
        "    elif con == False:\n",
        "        \n",
        "        ld = { \"@id\": \"http://my-soccer-ontology.com/footballer/\"+arg[0],\n",
        "\n",
        "            \"name\": arg[0],\n",
        "            \"born\": arg[1],\n",
        "            \"country\": arg[2],\n",
        "            \"position\": [\n",
        "                { \"@id\": \"http://my-soccer-ontology.com/position\",\n",
        "                    \"type\": arg[3]\n",
        "                }\n",
        "             ],   \n",
        "             \"team\": [\n",
        "                { \"@id\": \"http://my-soccer-ontology.com/team\",\n",
        "                    \"name\": arg[4]\n",
        "                },\n",
        "             ],\n",
        "            \"Debut Year\": arg[5][0],\n",
        "            \"Debut Age\": arg[5][1]\n",
        "        }\n",
        "\n",
        "        return json.dumps(ld)\n",
        "        \n",
        "\n",
        "\n",
        "\n",
        "data = data_generator(list_of_doc[0])\n",
        "print(generate_jsonld(data))\n",
        "\n",
        "#print(\"Please make sure that list index given is right\")\n"
      ],
      "execution_count": 20,
      "outputs": [
        {
          "output_type": "stream",
          "text": [
            "{\"@id\": \"http://my-soccer-ontology.com/footballer/Cristiano Santos Aveiro\", \"name\": \"Cristiano Santos Aveiro\", \"born\": \"5 February 1985 \", \"country\": \"Portugal\", \"position\": [{\"@id\": \"http://my-soccer-ontology.com/position/\", \"type\": [\"forward\"]}], \"team\": [{\"@id\": \"http://my-soccer-ontology.com/team/\", \"name\": [\"Portugal national team\", \"Real Madrid\"]}]}\n"
          ],
          "name": "stdout"
        }
      ]
    },
    {
      "metadata": {
        "id": "i3VtWxBr_WVZ",
        "colab_type": "text"
      },
      "cell_type": "markdown",
      "source": [
        "# Task 6 (10 Marks)\n",
        "Identify one other relation (besides team and player) and write a function to extract this. Also extend the JSON-LD output accordingly."
      ]
    },
    {
      "metadata": {
        "id": "C845b38DGRb_",
        "colab_type": "text"
      },
      "cell_type": "markdown",
      "source": [
        "Here I have taken debut year and debut age of the player. Example - Neymar da Silva Santos Júnior debut at the age of 17 with a club 'Santos'. But this data is not available for all the players. Hence, if debut year or debut age is not present I have added \"NA\"."
      ]
    },
    {
      "metadata": {
        "id": "TR0GZrUB_WVa",
        "colab_type": "code",
        "colab": {
          "base_uri": "https://localhost:8080/",
          "height": 55
        },
        "outputId": "9c51dc1f-f945-4a26-ebb1-be7149ea8d74"
      },
      "cell_type": "code",
      "source": [
        "def relation_debutYearAge(doc):\n",
        "    \n",
        "    \"\"\"This function extracts the debut year and debut age of the player. \n",
        "    Note - this information if not available for all the players\"\"\"\n",
        "    \n",
        "    sent = sent_tokenize(doc)\n",
        "    deb = []\n",
        "    ag = []\n",
        "    # For each sentence check if the debut key is present or not\n",
        "    for se in sent:\n",
        "        sp_sent = se.split()\n",
        "        \n",
        "        if \"debut\" in sp_sent:\n",
        "            # If debut year is present jecy for 4 digit number.\n",
        "            date = re.findall('\\d{4}', \" \".join(sp_sent))\n",
        "            if len(date) !=0:\n",
        "                deb.append(date[0])\n",
        "        \n",
        "        # Check for debut and age key in a sentence - \n",
        "        if \"debut\" in sp_sent and \"aged\" in sp_sent:\n",
        "            # Search for 2 digit number and append to the list.\n",
        "            age = re.findall('\\d{2}', \" \".join(sp_sent))\n",
        "            ag.append(age[0])       \n",
        "    \n",
        "    # If the above process dosent return anything, insert year and age is not available.\n",
        "    if len(deb) == 0:\n",
        "        deb.append(\"Not Available\")\n",
        "    if len(ag) == 0:\n",
        "        ag.append(\"Not Available\")\n",
        "\n",
        "    return [deb[0], ag[0]]\n",
        "\n",
        "relation_debutYearAge(list_of_doc[1])\n",
        "\n",
        "def data_generator(doc):\n",
        "    \n",
        "    data = [name_of_the_player(doc), date_of_birth(doc), country_of_origin(doc), position_of_the_player(doc), team_of_the_player(doc), relation_debutYearAge(doc)]\n",
        "    return data\n",
        "  \n",
        "  \n",
        "data = data_generator(list_of_doc[3])\n",
        "print(generate_jsonld(data, False))\n"
      ],
      "execution_count": 21,
      "outputs": [
        {
          "output_type": "stream",
          "text": [
            "{\"@id\": \"http://my-soccer-ontology.com/footballer/Ronaldo Assis Moreira\", \"name\": \"Ronaldo Assis Moreira\", \"born\": \"21 March 1980 \", \"country\": \"Brazil\", \"position\": [{\"@id\": \"http://my-soccer-ontology.com/position\", \"type\": [\"forward\", \"attacking midfielder\"]}], \"team\": [{\"@id\": \"http://my-soccer-ontology.com/team\", \"name\": [\"Brazil national team\", \"ambassador for\", \"FC Barcelona\"]}], \"Debut Year\": \"Not Available\", \"Debut Age\": \"Not Available\"}\n"
          ],
          "name": "stdout"
        }
      ]
    },
    {
      "metadata": {
        "id": "ruwnXxQYHjNJ",
        "colab_type": "code",
        "colab": {}
      },
      "cell_type": "code",
      "source": [
        ""
      ],
      "execution_count": 0,
      "outputs": []
    }
  ]
}